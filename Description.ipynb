{
 "cells": [
  {
   "cell_type": "code",
   "execution_count": null,
   "metadata": {},
   "outputs": [],
   "source": [
    "#My project focuses on chatbot. My chatbot can answer questions about integer lists. \n",
    "#For example, it can operate two lists; operate lists and integers; concat lists; \n",
    "#and find length, maximum, minimum of current list. I have wrote specific commands that\n",
    "#users can use when talk to my chatbot. But my chatbot cannot talk to the user about\n",
    "#anything besides what I have coded for each command case. And I intentionally keep \n",
    "#commands from changing original list. Otherwise, users can get results from their \n",
    "#commands, but whenever they use command curr to show current list, it will be the list\n",
    "#that users first type in. To change that list, users can just retype a new list in. Please\n",
    "#follow commans already provided to users, my chatbot is really stupid about other things."
   ]
  }
 ],
 "metadata": {
  "kernelspec": {
   "display_name": "Python 3",
   "language": "python",
   "name": "python3"
  },
  "language_info": {
   "codemirror_mode": {
    "name": "ipython",
    "version": 3
   },
   "file_extension": ".py",
   "mimetype": "text/x-python",
   "name": "python",
   "nbconvert_exporter": "python",
   "pygments_lexer": "ipython3",
   "version": "3.6.7"
  }
 },
 "nbformat": 4,
 "nbformat_minor": 2
}
